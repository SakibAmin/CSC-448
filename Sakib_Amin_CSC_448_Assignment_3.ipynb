{
  "cells": [
    {
      "cell_type": "markdown",
      "metadata": {
        "id": "view-in-github",
        "colab_type": "text"
      },
      "source": [
        "<a href=\"https://colab.research.google.com/github/SakibAmin/CSC-448/blob/main/Sakib_Amin_CSC_448_Assignment_3.ipynb\" target=\"_parent\"><img src=\"https://colab.research.google.com/assets/colab-badge.svg\" alt=\"Open In Colab\"/></a>"
      ]
    },
    {
      "cell_type": "code",
      "execution_count": null,
      "metadata": {
        "id": "lcl1QDxqUKMX"
      },
      "outputs": [],
      "source": [
        "# Imports section\n",
        "\n",
        "import pandas as pd\n",
        "import numpy as np\n",
        "from sklearn.model_selection import train_test_split\n",
        "from sklearn.linear_model import LinearRegression\n",
        "from sklearn.model_selection import cross_val_score\n",
        "from sklearn.preprocessing import PolynomialFeatures\n",
        "from sklearn.linear_model import Lasso"
      ]
    },
    {
      "cell_type": "markdown",
      "metadata": {
        "id": "hfgBZvJLUKMY"
      },
      "source": [
        "## Part 1. Loading the dataset"
      ]
    },
    {
      "cell_type": "code",
      "execution_count": null,
      "metadata": {
        "id": "Rb_xXcaHUKMY",
        "outputId": "e8d84aa1-d23b-4fc7-8953-810c353b1262"
      },
      "outputs": [
        {
          "data": {
            "text/html": [
              "<div>\n",
              "<style scoped>\n",
              "    .dataframe tbody tr th:only-of-type {\n",
              "        vertical-align: middle;\n",
              "    }\n",
              "\n",
              "    .dataframe tbody tr th {\n",
              "        vertical-align: top;\n",
              "    }\n",
              "\n",
              "    .dataframe thead th {\n",
              "        text-align: right;\n",
              "    }\n",
              "</style>\n",
              "<table border=\"1\" class=\"dataframe\">\n",
              "  <thead>\n",
              "    <tr style=\"text-align: right;\">\n",
              "      <th></th>\n",
              "      <th>Temperature °C</th>\n",
              "      <th>Mols KCL</th>\n",
              "      <th>Size nm^3</th>\n",
              "    </tr>\n",
              "  </thead>\n",
              "  <tbody>\n",
              "    <tr>\n",
              "      <th>0</th>\n",
              "      <td>469</td>\n",
              "      <td>647</td>\n",
              "      <td>6.244743e+05</td>\n",
              "    </tr>\n",
              "    <tr>\n",
              "      <th>1</th>\n",
              "      <td>403</td>\n",
              "      <td>694</td>\n",
              "      <td>5.779610e+05</td>\n",
              "    </tr>\n",
              "    <tr>\n",
              "      <th>2</th>\n",
              "      <td>302</td>\n",
              "      <td>975</td>\n",
              "      <td>6.196847e+05</td>\n",
              "    </tr>\n",
              "    <tr>\n",
              "      <th>3</th>\n",
              "      <td>779</td>\n",
              "      <td>916</td>\n",
              "      <td>1.460449e+06</td>\n",
              "    </tr>\n",
              "    <tr>\n",
              "      <th>4</th>\n",
              "      <td>901</td>\n",
              "      <td>18</td>\n",
              "      <td>4.325726e+04</td>\n",
              "    </tr>\n",
              "    <tr>\n",
              "      <th>5</th>\n",
              "      <td>545</td>\n",
              "      <td>637</td>\n",
              "      <td>7.124634e+05</td>\n",
              "    </tr>\n",
              "    <tr>\n",
              "      <th>6</th>\n",
              "      <td>660</td>\n",
              "      <td>519</td>\n",
              "      <td>7.006960e+05</td>\n",
              "    </tr>\n",
              "    <tr>\n",
              "      <th>7</th>\n",
              "      <td>143</td>\n",
              "      <td>869</td>\n",
              "      <td>2.718260e+05</td>\n",
              "    </tr>\n",
              "    <tr>\n",
              "      <th>8</th>\n",
              "      <td>89</td>\n",
              "      <td>461</td>\n",
              "      <td>8.919803e+04</td>\n",
              "    </tr>\n",
              "    <tr>\n",
              "      <th>9</th>\n",
              "      <td>294</td>\n",
              "      <td>776</td>\n",
              "      <td>4.770210e+05</td>\n",
              "    </tr>\n",
              "    <tr>\n",
              "      <th>10</th>\n",
              "      <td>991</td>\n",
              "      <td>117</td>\n",
              "      <td>2.441771e+05</td>\n",
              "    </tr>\n",
              "    <tr>\n",
              "      <th>11</th>\n",
              "      <td>307</td>\n",
              "      <td>781</td>\n",
              "      <td>5.006455e+05</td>\n",
              "    </tr>\n",
              "    <tr>\n",
              "      <th>12</th>\n",
              "      <td>206</td>\n",
              "      <td>70</td>\n",
              "      <td>3.145200e+04</td>\n",
              "    </tr>\n",
              "    <tr>\n",
              "      <th>13</th>\n",
              "      <td>437</td>\n",
              "      <td>599</td>\n",
              "      <td>5.390215e+05</td>\n",
              "    </tr>\n",
              "    <tr>\n",
              "      <th>14</th>\n",
              "      <td>566</td>\n",
              "      <td>75</td>\n",
              "      <td>9.185271e+04</td>\n",
              "    </tr>\n",
              "  </tbody>\n",
              "</table>\n",
              "</div>"
            ],
            "text/plain": [
              "    Temperature °C  Mols KCL     Size nm^3\n",
              "0              469       647  6.244743e+05\n",
              "1              403       694  5.779610e+05\n",
              "2              302       975  6.196847e+05\n",
              "3              779       916  1.460449e+06\n",
              "4              901        18  4.325726e+04\n",
              "5              545       637  7.124634e+05\n",
              "6              660       519  7.006960e+05\n",
              "7              143       869  2.718260e+05\n",
              "8               89       461  8.919803e+04\n",
              "9              294       776  4.770210e+05\n",
              "10             991       117  2.441771e+05\n",
              "11             307       781  5.006455e+05\n",
              "12             206        70  3.145200e+04\n",
              "13             437       599  5.390215e+05\n",
              "14             566        75  9.185271e+04"
            ]
          },
          "execution_count": 5,
          "metadata": {},
          "output_type": "execute_result"
        }
      ],
      "source": [
        "# Using pandas load the dataset (load remotely, not locally)\n",
        "# Output the first 15 rows of the data\n",
        "\n",
        "url = \"https://raw.githubusercontent.com/profmcnich/example_notebook/main/science_data_large.csv\"\n",
        "df = pd.read_csv(url)\n",
        "\n",
        "df.head(15)"
      ]
    },
    {
      "cell_type": "code",
      "execution_count": null,
      "metadata": {
        "id": "bw4kYbXqFgO-",
        "outputId": "106fa39d-0b0f-446b-e21d-76cf9cb27e20"
      },
      "outputs": [
        {
          "name": "stdout",
          "output_type": "stream",
          "text": [
            "<class 'pandas.core.frame.DataFrame'>\n",
            "RangeIndex: 1000 entries, 0 to 999\n",
            "Data columns (total 3 columns):\n",
            " #   Column          Non-Null Count  Dtype  \n",
            "---  ------          --------------  -----  \n",
            " 0   Temperature °C  1000 non-null   int64  \n",
            " 1   Mols KCL        1000 non-null   int64  \n",
            " 2   Size nm^3       1000 non-null   float64\n",
            "dtypes: float64(1), int64(2)\n",
            "memory usage: 23.6 KB\n"
          ]
        }
      ],
      "source": [
        "# Display a summary of the table information (number of datapoints, etc.)\n",
        "\n",
        "df.info()"
      ]
    },
    {
      "cell_type": "markdown",
      "metadata": {
        "id": "zP8OiFYJUKMY"
      },
      "source": [
        "## Part 2. Splitting the dataset"
      ]
    },
    {
      "cell_type": "code",
      "execution_count": null,
      "metadata": {
        "id": "lMJrShyOUKMZ"
      },
      "outputs": [],
      "source": [
        "# Take the pandas dataset and split it into our features (X) and label (y)\n",
        "# Use sklearn to split the features and labels into a training/test set. (90% train, 10% test)\n",
        "\n",
        "\n",
        "X = df.iloc[:, :-1].values\n",
        "Y = df.iloc[:, -1].values\n",
        "X_train, X_test, y_train, y_test = train_test_split(X, Y, test_size=0.1)\n",
        "\n",
        "#print(X)\n",
        "#print(Y)\n",
        "#print(X_train)\n",
        "#print (X_test)\n",
        "#print (y_train)\n",
        "#print (y_test)\n"
      ]
    },
    {
      "cell_type": "markdown",
      "metadata": {
        "id": "SqZVj0fDUKMZ"
      },
      "source": [
        "## Part 3. Perform a Linear Regression"
      ]
    },
    {
      "cell_type": "code",
      "execution_count": null,
      "metadata": {
        "id": "yUo-ve8bUKMa",
        "outputId": "4a7c37d0-c7b9-4989-aea5-08b587857562"
      },
      "outputs": [
        {
          "name": "stdout",
          "output_type": "stream",
          "text": [
            "Predicted Output =  [472920.8860303]\n",
            "Score =  0.8581793565395621\n",
            "Coefficients =  [ 872.04797529 1045.88259667]\n",
            "Intercept:  -423555.74220925337\n"
          ]
        }
      ],
      "source": [
        "# Use sklearn to train a model on the training set\n",
        "# Create a sample datapoint and predict the output of that sample with the trained model\n",
        "# Report on the score for that model, in your own words (markdown, not code) explain what the score means\n",
        "# Extract the coefficents and intercept from the model and write an equation for your h(x) using LaTeX\n",
        "\n",
        "line = LinearRegression()\n",
        "line.fit(X_train, y_train)\n",
        "\n",
        "sample = np.array([[324, 587]])\n",
        "print(\"Predicted Output = \", line.predict(sample))\n",
        "\n",
        "score = line.score(X_test, y_test)\n",
        "print(\"Score = \", score)\n",
        "\n",
        "coefficents = line.coef_\n",
        "intercept = line.intercept_\n",
        "print(\"Coefficients = \", coefficents)\n",
        "print(\"Intercept: \", intercept)"
      ]
    },
    {
      "cell_type": "markdown",
      "metadata": {
        "id": "msLoVaVPFgPB"
      },
      "source": [
        "The score was 0.85 or 85% meaning that the model can predict with 85% accuracy. Using the Coeffiecients and the intercept we can create make the following $h(x)$ function\n",
        "\n",
        "$ h(x) = (872.04a) + (1045.88b) - 423555.74 $"
      ]
    },
    {
      "cell_type": "markdown",
      "metadata": {
        "id": "l3eCrpr8UKMa"
      },
      "source": [
        "Sample equation: $E = mc^2$"
      ]
    },
    {
      "cell_type": "markdown",
      "metadata": {
        "id": "EAXfeyJAUKMb"
      },
      "source": [
        "## Part 4. Use Cross Validation"
      ]
    },
    {
      "cell_type": "code",
      "execution_count": null,
      "metadata": {
        "id": "beDY4SGuUKMb",
        "outputId": "50e4ad9c-ff64-4dac-e77f-8b89a75ab9bf"
      },
      "outputs": [
        {
          "name": "stdout",
          "output_type": "stream",
          "text": [
            "[0.83918826 0.87051239 0.85871066 0.87202623 0.84364641]\n"
          ]
        }
      ],
      "source": [
        "# Use the cross_val_score function to repeat your experiment across many shuffles of the data\n",
        "# Report on their finding and their significance\n",
        "\n",
        "c_score = cross_val_score(line, X, Y)\n",
        "print(c_score)"
      ]
    },
    {
      "cell_type": "markdown",
      "metadata": {
        "id": "6efRwKgIFgPD"
      },
      "source": [
        "The cross_val_score function allows you to determine what the potential accuaracy of your model could be if you were to run the model multiple times. In this case the cross_val_score function is giving a range between 83% to 87% meaning that generally our model will perform with that range of accuracy"
      ]
    },
    {
      "cell_type": "markdown",
      "metadata": {
        "id": "RklwrGBrUKMc"
      },
      "source": [
        "## Part 5. Using Polynomial Regression"
      ]
    },
    {
      "cell_type": "code",
      "execution_count": null,
      "metadata": {
        "id": "FyM5-kRmUKMc",
        "outputId": "2f0e6123-3fe3-4d31-f14d-5668483f3fb8"
      },
      "outputs": [
        {
          "name": "stdout",
          "output_type": "stream",
          "text": [
            "Score = 0.9999999999910508\n",
            "Coefficients =  [ 0.00000000e+00  1.19840878e+01 -6.48933404e-03  1.32175929e-05\n",
            "  2.00000355e+00  2.85764689e-02]\n",
            "Intercept =  4.198143994843122\n"
          ]
        }
      ],
      "source": [
        "# Using the PolynomialFeatures library perform another regression on an augmented dataset of degree 2\n",
        "# Report on the metrics and output the resultant equation as you did in Part 3.\n",
        "\n",
        "poly = PolynomialFeatures(degree=2)\n",
        "poly_X = poly.fit_transform(X)\n",
        "\n",
        "X_train, X_test, y_train, y_test = train_test_split(poly_X, Y, test_size=0.1)\n",
        "\n",
        "model = Lasso()\n",
        "model.fit(X_train, y_train)\n",
        "\n",
        "score = model.score(X_test, y_test)\n",
        "print(\"Score =\", score)\n",
        "coefficents = model.coef_\n",
        "intercept = model.intercept_\n",
        "print(\"Coefficients = \", coefficents)\n",
        "print(\"Intercept = \", intercept)\n"
      ]
    },
    {
      "cell_type": "markdown",
      "metadata": {
        "id": "V7L9FzPxFgPE"
      },
      "source": [
        "If we look at our score value we can see that the model has a 99% accuracy meaning that it has a very high and accurate perdictive model. Therefore we can say that the data may be closer to a polynomial trend rather than a linear trend. If we were to create a $h(x)$ function for the followinng model it would look like the following\n",
        "\n",
        "$ h(x) = ((1.32175929e-05)a^2) + ((2.85764689e-02)b^2) + (2.00000355ab) + ((1.19840878e+01)a) + ((-6.48933404e-03)b) + 4.198143994843122 $"
      ]
    },
    {
      "cell_type": "code",
      "execution_count": null,
      "metadata": {
        "id": "kFheju8LFgPE"
      },
      "outputs": [],
      "source": [
        ""
      ]
    }
  ],
  "metadata": {
    "colab": {
      "name": "a3_sample_notebook.ipynb",
      "provenance": [],
      "include_colab_link": true
    },
    "interpreter": {
      "hash": "12a47a63bb1fdf5fb4b2ca4ecafdae90bb0e588567455405a7d1035ace978e79"
    },
    "kernelspec": {
      "display_name": "Python 3.8.12 64-bit",
      "name": "python3"
    },
    "language_info": {
      "codemirror_mode": {
        "name": "ipython",
        "version": 3
      },
      "file_extension": ".py",
      "mimetype": "text/x-python",
      "name": "python",
      "nbconvert_exporter": "python",
      "pygments_lexer": "ipython3",
      "version": "3.8.8"
    }
  },
  "nbformat": 4,
  "nbformat_minor": 0
}